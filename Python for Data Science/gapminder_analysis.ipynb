{
 "cells": [
  {
   "cell_type": "markdown",
   "metadata": {},
   "source": [
    "# Gapminder Dataset Analysis"
   ]
  },
  {
   "cell_type": "code",
   "execution_count": 78,
   "metadata": {},
   "outputs": [],
   "source": [
    "import pandas as pd\n",
    "import numpy as np\n",
    "\n",
    "import matplotlib.pyplot as plt\n",
    "import seaborn as sns\n",
    "import plotly.express as px\n",
    "import plotly.graph_objects as go\n",
    "import plotly.subplots as sp\n",
    "import plotly.offline as pyo\n",
    "from IPython.display import IFrame\n",
    "from IPython.display import Markdown as md\n",
    "\n",
    "from scipy import stats\n",
    "from scipy.stats import mannwhitneyu\n",
    "from statsmodels.stats.multitest import multipletests"
   ]
  },
  {
   "cell_type": "code",
   "execution_count": 3,
   "metadata": {
    "tags": [
     "hide_output"
    ]
   },
   "outputs": [
    {
     "data": {
      "text/html": [
       "<div>\n",
       "<style scoped>\n",
       "    .dataframe tbody tr th:only-of-type {\n",
       "        vertical-align: middle;\n",
       "    }\n",
       "\n",
       "    .dataframe tbody tr th {\n",
       "        vertical-align: top;\n",
       "    }\n",
       "\n",
       "    .dataframe thead th {\n",
       "        text-align: right;\n",
       "    }\n",
       "</style>\n",
       "<table border=\"1\" class=\"dataframe\">\n",
       "  <thead>\n",
       "    <tr style=\"text-align: right;\">\n",
       "      <th></th>\n",
       "      <th>country</th>\n",
       "      <th>year</th>\n",
       "      <th>agriculture_value_added</th>\n",
       "      <th>co2_emissions</th>\n",
       "      <th>domestic_credit_by_financial_sector</th>\n",
       "      <th>electric_power_consumption</th>\n",
       "      <th>energy_use</th>\n",
       "      <th>exports</th>\n",
       "      <th>fertility_rate</th>\n",
       "      <th>GDP_growth</th>\n",
       "      <th>imports</th>\n",
       "      <th>industry_value_added</th>\n",
       "      <th>inflation</th>\n",
       "      <th>life_expectancy</th>\n",
       "      <th>population_density</th>\n",
       "      <th>services_value_added</th>\n",
       "      <th>population</th>\n",
       "      <th>continent</th>\n",
       "      <th>GDP_per_cap</th>\n",
       "    </tr>\n",
       "  </thead>\n",
       "  <tbody>\n",
       "    <tr>\n",
       "      <th>0</th>\n",
       "      <td>Afghanistan</td>\n",
       "      <td>1962</td>\n",
       "      <td>NaN</td>\n",
       "      <td>0.073781</td>\n",
       "      <td>21.276422</td>\n",
       "      <td>NaN</td>\n",
       "      <td>NaN</td>\n",
       "      <td>4.878051</td>\n",
       "      <td>7.450</td>\n",
       "      <td>NaN</td>\n",
       "      <td>9.349593</td>\n",
       "      <td>NaN</td>\n",
       "      <td>NaN</td>\n",
       "      <td>33.219902</td>\n",
       "      <td>14.312061</td>\n",
       "      <td>NaN</td>\n",
       "      <td>10267083.0</td>\n",
       "      <td>Asia</td>\n",
       "      <td>853.100710</td>\n",
       "    </tr>\n",
       "    <tr>\n",
       "      <th>1</th>\n",
       "      <td>Afghanistan</td>\n",
       "      <td>1967</td>\n",
       "      <td>NaN</td>\n",
       "      <td>0.123782</td>\n",
       "      <td>9.917662</td>\n",
       "      <td>NaN</td>\n",
       "      <td>NaN</td>\n",
       "      <td>6.772908</td>\n",
       "      <td>7.450</td>\n",
       "      <td>NaN</td>\n",
       "      <td>14.209827</td>\n",
       "      <td>NaN</td>\n",
       "      <td>NaN</td>\n",
       "      <td>35.389415</td>\n",
       "      <td>15.881812</td>\n",
       "      <td>NaN</td>\n",
       "      <td>11537966.0</td>\n",
       "      <td>Asia</td>\n",
       "      <td>836.197138</td>\n",
       "    </tr>\n",
       "    <tr>\n",
       "      <th>2</th>\n",
       "      <td>Afghanistan</td>\n",
       "      <td>1972</td>\n",
       "      <td>NaN</td>\n",
       "      <td>0.130820</td>\n",
       "      <td>18.880833</td>\n",
       "      <td>NaN</td>\n",
       "      <td>NaN</td>\n",
       "      <td>14.763231</td>\n",
       "      <td>7.450</td>\n",
       "      <td>NaN</td>\n",
       "      <td>18.105850</td>\n",
       "      <td>NaN</td>\n",
       "      <td>NaN</td>\n",
       "      <td>37.610146</td>\n",
       "      <td>17.947027</td>\n",
       "      <td>NaN</td>\n",
       "      <td>13079460.0</td>\n",
       "      <td>Asia</td>\n",
       "      <td>739.981106</td>\n",
       "    </tr>\n",
       "    <tr>\n",
       "      <th>3</th>\n",
       "      <td>Afghanistan</td>\n",
       "      <td>1977</td>\n",
       "      <td>NaN</td>\n",
       "      <td>0.183118</td>\n",
       "      <td>13.836822</td>\n",
       "      <td>NaN</td>\n",
       "      <td>NaN</td>\n",
       "      <td>11.662904</td>\n",
       "      <td>7.449</td>\n",
       "      <td>NaN</td>\n",
       "      <td>14.823175</td>\n",
       "      <td>NaN</td>\n",
       "      <td>NaN</td>\n",
       "      <td>40.110146</td>\n",
       "      <td>19.998926</td>\n",
       "      <td>NaN</td>\n",
       "      <td>14880372.0</td>\n",
       "      <td>Asia</td>\n",
       "      <td>786.113360</td>\n",
       "    </tr>\n",
       "    <tr>\n",
       "      <th>4</th>\n",
       "      <td>Afghanistan</td>\n",
       "      <td>1982</td>\n",
       "      <td>NaN</td>\n",
       "      <td>0.165879</td>\n",
       "      <td>NaN</td>\n",
       "      <td>NaN</td>\n",
       "      <td>NaN</td>\n",
       "      <td>NaN</td>\n",
       "      <td>7.450</td>\n",
       "      <td>NaN</td>\n",
       "      <td>NaN</td>\n",
       "      <td>NaN</td>\n",
       "      <td>NaN</td>\n",
       "      <td>43.230732</td>\n",
       "      <td>19.402324</td>\n",
       "      <td>NaN</td>\n",
       "      <td>12881816.0</td>\n",
       "      <td>Asia</td>\n",
       "      <td>978.011439</td>\n",
       "    </tr>\n",
       "  </tbody>\n",
       "</table>\n",
       "</div>"
      ],
      "text/plain": [
       "       country  year  agriculture_value_added  co2_emissions  \\\n",
       "0  Afghanistan  1962                      NaN       0.073781   \n",
       "1  Afghanistan  1967                      NaN       0.123782   \n",
       "2  Afghanistan  1972                      NaN       0.130820   \n",
       "3  Afghanistan  1977                      NaN       0.183118   \n",
       "4  Afghanistan  1982                      NaN       0.165879   \n",
       "\n",
       "   domestic_credit_by_financial_sector  electric_power_consumption  \\\n",
       "0                            21.276422                         NaN   \n",
       "1                             9.917662                         NaN   \n",
       "2                            18.880833                         NaN   \n",
       "3                            13.836822                         NaN   \n",
       "4                                  NaN                         NaN   \n",
       "\n",
       "   energy_use    exports  fertility_rate  GDP_growth    imports  \\\n",
       "0         NaN   4.878051           7.450         NaN   9.349593   \n",
       "1         NaN   6.772908           7.450         NaN  14.209827   \n",
       "2         NaN  14.763231           7.450         NaN  18.105850   \n",
       "3         NaN  11.662904           7.449         NaN  14.823175   \n",
       "4         NaN        NaN           7.450         NaN        NaN   \n",
       "\n",
       "   industry_value_added  inflation  life_expectancy  population_density  \\\n",
       "0                   NaN        NaN        33.219902           14.312061   \n",
       "1                   NaN        NaN        35.389415           15.881812   \n",
       "2                   NaN        NaN        37.610146           17.947027   \n",
       "3                   NaN        NaN        40.110146           19.998926   \n",
       "4                   NaN        NaN        43.230732           19.402324   \n",
       "\n",
       "   services_value_added  population continent  GDP_per_cap  \n",
       "0                   NaN  10267083.0      Asia   853.100710  \n",
       "1                   NaN  11537966.0      Asia   836.197138  \n",
       "2                   NaN  13079460.0      Asia   739.981106  \n",
       "3                   NaN  14880372.0      Asia   786.113360  \n",
       "4                   NaN  12881816.0      Asia   978.011439  "
      ]
     },
     "execution_count": 3,
     "metadata": {},
     "output_type": "execute_result"
    }
   ],
   "source": [
    "# read in data\n",
    "df = pd.read_csv('gapminder_clean.csv', index_col=0)\n",
    "\n",
    "#rename the columns\n",
    "df.columns = (\"country\", \"year\", \"agriculture_value_added\",\n",
    "    \"co2_emissions\", \"domestic_credit_by_financial_sector\",\n",
    "    \"electric_power_consumption\", \"energy_use\", \"exports\",\n",
    "    \"fertility_rate\", \"GDP_growth\", \"imports\",\n",
    "    \"industry_value_added\", \"inflation\", \"life_expectancy\",\n",
    "    \"population_density\", \"services_value_added\", \"population\",\n",
    "    \"continent\", \"GDP_per_cap\")\n",
    "df.head()"
   ]
  },
  {
   "cell_type": "markdown",
   "metadata": {},
   "source": [
    "### CO2 Emissions Versus GDP Per Capita In 1962"
   ]
  },
  {
   "cell_type": "code",
   "execution_count": 5,
   "metadata": {},
   "outputs": [],
   "source": [
    "#filter to include only rows where the year is 1962 and remove any rows with missing values\n",
    "co2_GDP_1962 = df[df['year'] == 1962][['co2_emissions', 'GDP_per_cap']].dropna()"
   ]
  },
  {
   "cell_type": "code",
   "execution_count": 7,
   "metadata": {},
   "outputs": [
    {
     "data": {
      "text/html": [
       "\n",
       "        <iframe\n",
       "            width=\"800\"\n",
       "            height=\"600\"\n",
       "            src=\"histograms_1962.html\"\n",
       "            frameborder=\"0\"\n",
       "            allowfullscreen\n",
       "            \n",
       "        ></iframe>\n",
       "        "
      ],
      "text/plain": [
       "<IPython.lib.display.IFrame at 0x24c9eca0550>"
      ]
     },
     "execution_count": 7,
     "metadata": {},
     "output_type": "execute_result"
    }
   ],
   "source": [
    "# check normality with histograms\n",
    "fig = sp.make_subplots(rows=1, cols=2,\n",
    "                    subplot_titles=(\"CO2 Emissions in 1962\", \"GDP Per Capita in 1962\"))\n",
    "fig.add_trace(go.Histogram(x=co2_GDP_1962['co2_emissions'], name='CO2 Emissions'), row=1, col=1)\n",
    "fig.add_trace(go.Histogram(x=co2_GDP_1962['GDP_per_cap'], name='GDP Per Capita'), row=1, col=2)\n",
    "fig.update_layout(height=600, width=800, title_text=\"Histograms For Checking Normality\", showlegend=False)\n",
    "pyo.plot(fig, filename='histograms_1962.html', auto_open=False)\n",
    "IFrame(src='histograms_1962.html', width=800, height=600)"
   ]
  },
  {
   "cell_type": "code",
   "execution_count": 8,
   "metadata": {},
   "outputs": [],
   "source": [
    "# Spearman correlation\n",
    "corr_1962, p_val_1962 = stats.spearmanr(co2_GDP_1962['co2_emissions'], co2_GDP_1962['GDP_per_cap'])\n",
    "rho_1962 = round(corr_1962, 2)\n",
    "p_val_1962_sci = \"{:.2e}\".format(p_val_1962)"
   ]
  },
  {
   "cell_type": "code",
   "execution_count": 10,
   "metadata": {},
   "outputs": [
    {
     "data": {
      "text/markdown": [
       "\n",
       "Data was not normally distributed so Spearman's correlation was used to \n",
       "look at the relationship between CO2 emissions and GDP per capita in 1962. The \n",
       "correlation coefficient was 0.85 with a p-value of 8.34e-32.\n"
      ],
      "text/plain": [
       "<IPython.core.display.Markdown object>"
      ]
     },
     "execution_count": 10,
     "metadata": {},
     "output_type": "execute_result"
    }
   ],
   "source": [
    "md(f\"\"\"\n",
    "Data was not normally distributed so Spearman's correlation was used to \n",
    "look at the relationship between CO2 emissions and GDP per capita in 1962. The \n",
    "correlation coefficient was {rho_1962} with a p-value of {p_val_1962_sci}.\n",
    "\"\"\")"
   ]
  },
  {
   "cell_type": "code",
   "execution_count": 12,
   "metadata": {},
   "outputs": [
    {
     "data": {
      "text/html": [
       "\n",
       "        <iframe\n",
       "            width=\"800\"\n",
       "            height=\"600\"\n",
       "            src=\"scatterplot_1962.html\"\n",
       "            frameborder=\"0\"\n",
       "            allowfullscreen\n",
       "            \n",
       "        ></iframe>\n",
       "        "
      ],
      "text/plain": [
       "<IPython.lib.display.IFrame at 0x24ca23be1f0>"
      ]
     },
     "execution_count": 12,
     "metadata": {},
     "output_type": "execute_result"
    }
   ],
   "source": [
    "fig = px.scatter(co2_GDP_1962, x='GDP_per_cap', y='co2_emissions',\n",
    "                 trendline=\"ols\", log_x=True, log_y=True)\n",
    "\n",
    "# For x-axis\n",
    "x_tickvals = pd.to_numeric(\n",
    "    [f\"{n:.1g}\" for n in np.geomspace(1, co2_GDP_1962['GDP_per_cap'].max(), 15)]\n",
    ")\n",
    "\n",
    "# For y-axis\n",
    "y_tickvals = pd.to_numeric(\n",
    "    [f\"{n:.1g}\" for n in np.geomspace(0.01, co2_GDP_1962['co2_emissions'].max()*2, 8)]\n",
    ")\n",
    "\n",
    "fig.update_layout(\n",
    "    title=\"CO2 Emissions Versus GDP Per Capita in 1962\",\n",
    "    xaxis=dict(\n",
    "        title=\"GDP per capita\",\n",
    "        tickmode = 'array',\n",
    "        tickvals = x_tickvals\n",
    "    ),\n",
    "    yaxis=dict(\n",
    "        title=\"CO2 emissions (metric tons per capita)\",\n",
    "        tickmode = 'array',\n",
    "        tickvals = y_tickvals\n",
    "    ),\n",
    "    annotations=[\n",
    "        go.layout.Annotation(\n",
    "            x=np.log10(1000),\n",
    "            y=np.log10(200),\n",
    "            text=f\"R = {rho_1962}\",\n",
    "            showarrow=False,\n",
    "        ),\n",
    "        go.layout.Annotation(\n",
    "            x=np.log10(1000),\n",
    "            y=np.log10(100),\n",
    "            text=f\"p-value = {p_val_1962_sci}\",\n",
    "            showarrow=False,\n",
    "        )\n",
    "    ]\n",
    ")\n",
    "pyo.plot(fig, filename='scatterplot_1962.html', auto_open=False)\n",
    "IFrame(src='scatterplot_1962.html', width=800, height=600)"
   ]
  },
  {
   "cell_type": "markdown",
   "metadata": {},
   "source": [
    "### CO2 Emissions Versus GDP Per Capita For All Years"
   ]
  },
  {
   "cell_type": "code",
   "execution_count": 14,
   "metadata": {},
   "outputs": [
    {
     "data": {
      "text/html": [
       "\n",
       "        <iframe\n",
       "            width=\"800\"\n",
       "            height=\"600\"\n",
       "            src=\"histogram_all_years.html\"\n",
       "            frameborder=\"0\"\n",
       "            allowfullscreen\n",
       "            \n",
       "        ></iframe>\n",
       "        "
      ],
      "text/plain": [
       "<IPython.lib.display.IFrame at 0x24c9ebd0a30>"
      ]
     },
     "execution_count": 14,
     "metadata": {},
     "output_type": "execute_result"
    }
   ],
   "source": [
    "# check normality\n",
    "fig1 = go.Histogram(x=df['co2_emissions'], nbinsx=50, name='CO2 Emissions')\n",
    "layout1 = go.Layout(xaxis=dict(title=\"CO2 Emissions\"), yaxis=dict(title=\"Count\"))\n",
    "\n",
    "fig2 = go.Histogram(x=df['GDP_per_cap'], nbinsx=50, name='GDP Per Capita')\n",
    "layout2 = go.Layout(xaxis=dict(title=\"GDP Per Capita\"), yaxis=dict(title=\"Count\"))\n",
    "\n",
    "fig = sp.make_subplots(rows=1, cols=2, subplot_titles=('CO2 Emissions', 'GDP Per Capita'))\n",
    "fig.add_trace(fig1, 1, 1)\n",
    "fig.add_trace(fig2, 1, 2)\n",
    "\n",
    "fig['layout'].update(height=600, width=800, title=\"Histograms For Checking Normality\", showlegend=False)\n",
    "\n",
    "pyo.plot(fig, filename='histogram_all_years.html', auto_open=False)\n",
    "IFrame(src='histogram_all_years.html', width=800, height=600)"
   ]
  },
  {
   "cell_type": "code",
   "execution_count": 15,
   "metadata": {},
   "outputs": [
    {
     "data": {
      "text/html": [
       "\n",
       "        <iframe\n",
       "            width=\"800\"\n",
       "            height=\"600\"\n",
       "            src=\"correlation_all_years.html\"\n",
       "            frameborder=\"0\"\n",
       "            allowfullscreen\n",
       "            \n",
       "        ></iframe>\n",
       "        "
      ],
      "text/plain": [
       "<IPython.lib.display.IFrame at 0x24c991eeb50>"
      ]
     },
     "execution_count": 15,
     "metadata": {},
     "output_type": "execute_result"
    }
   ],
   "source": [
    "# Remove rows with NA values\n",
    "co2_gdp_corr = df[['year', 'co2_emissions', 'GDP_per_cap']].dropna()\n",
    "\n",
    "# Group by year and calculate correlation\n",
    "co2_gdp_corr = co2_gdp_corr.groupby('year').apply(\n",
    "    lambda x: stats.spearmanr(x['co2_emissions'], x['GDP_per_cap'])[0]\n",
    ").reset_index().rename(columns={0: 'correlation'})\n",
    "\n",
    "# Create plotly line plot\n",
    "fig = go.Figure()\n",
    "\n",
    "fig.add_trace(go.Scatter(\n",
    "    x=co2_gdp_corr['year'], \n",
    "    y=co2_gdp_corr['correlation'],\n",
    "    mode='lines+markers',\n",
    "    name='lines+markers'\n",
    "))\n",
    "\n",
    "fig.update_xaxes(\n",
    "    tickvals=list(range(1960, 2011, 5)),\n",
    "    ticktext=list(range(1960, 2011, 5))\n",
    ")\n",
    "\n",
    "fig.update_layout(\n",
    "    title=\"Correlation Between CO2 Emissions and GDP\",\n",
    "    xaxis_title=\"Year\",\n",
    "    yaxis_title=\"Spearman Correlation Between CO2 Emissions and GDP\",\n",
    ")\n",
    "\n",
    "pyo.plot(fig, filename='correlation_all_years.html', auto_open=False)\n",
    "IFrame(src='correlation_all_years.html', width=800, height=600)"
   ]
  },
  {
   "cell_type": "code",
   "execution_count": 16,
   "metadata": {},
   "outputs": [],
   "source": [
    "max_corr_year = co2_gdp_corr[co2_gdp_corr['correlation'] == co2_gdp_corr['correlation'].max()]['year']\n",
    "max_corr_year = max_corr_year.values[0]"
   ]
  },
  {
   "cell_type": "code",
   "execution_count": 19,
   "metadata": {},
   "outputs": [
    {
     "data": {
      "text/markdown": [
       "\n",
       "Data was not normally distributed so a Spearman's correlation was used. \n",
       "Correlation between CO2 emissions and GDP per capita was highest in 2002.\n"
      ],
      "text/plain": [
       "<IPython.core.display.Markdown object>"
      ]
     },
     "execution_count": 19,
     "metadata": {},
     "output_type": "execute_result"
    }
   ],
   "source": [
    "md(f\"\"\"\n",
    "Data was not normally distributed so a Spearman's correlation was used. \n",
    "Correlation between CO2 emissions and GDP per capita was highest in {max_corr_year}.\n",
    "\"\"\")"
   ]
  },
  {
   "cell_type": "code",
   "execution_count": 53,
   "metadata": {},
   "outputs": [
    {
     "data": {
      "text/markdown": [
       "### CO2 Emissions Versus GDP Per Capita In 2002"
      ],
      "text/plain": [
       "<IPython.core.display.Markdown object>"
      ]
     },
     "execution_count": 53,
     "metadata": {},
     "output_type": "execute_result"
    }
   ],
   "source": [
    "md(f\"### CO2 Emissions Versus GDP Per Capita In {max_corr_year}\")"
   ]
  },
  {
   "cell_type": "code",
   "execution_count": 21,
   "metadata": {},
   "outputs": [
    {
     "data": {
      "text/html": [
       "\n",
       "        <iframe\n",
       "            width=\"800\"\n",
       "            height=\"600\"\n",
       "            src=\"co2_gdp_population.html\"\n",
       "            frameborder=\"0\"\n",
       "            allowfullscreen\n",
       "            \n",
       "        ></iframe>\n",
       "        "
      ],
      "text/plain": [
       "<IPython.lib.display.IFrame at 0x24ca23fba60>"
      ]
     },
     "execution_count": 21,
     "metadata": {},
     "output_type": "execute_result"
    }
   ],
   "source": [
    "# Filter data from the year with max correlation\n",
    "data_from_max_year = df[df['year'] == max_corr_year][['co2_emissions', 'GDP_per_cap', 'population', 'continent']].dropna()\n",
    "\n",
    "# Create a plotly scatter plot\n",
    "fig = px.scatter(data_from_max_year, x='GDP_per_cap', y='co2_emissions', \n",
    "                 size='population', color='continent', log_x=True, log_y=True,\n",
    "                 size_max=50)\n",
    "\n",
    "\n",
    "# Update layout and labels\n",
    "fig.update_layout(\n",
    "    title=f\"CO2 Emissions vs GDP Per Capita in {max_corr_year}\",\n",
    "    xaxis_title=\"GDP per capita\",\n",
    "    yaxis_title=\"CO2 emissions (metric tons per capita)\",\n",
    "    legend_title=\"Continent\",\n",
    "    xaxis={\n",
    "        \"tickmode\": \"array\",\n",
    "        \"tickvals\": pd.to_numeric(\n",
    "            [f\"{n:.1g}\" for n in np.geomspace(1, data_from_max_year['GDP_per_cap'].max(), 15)]\n",
    "        ),\n",
    "    },\n",
    "    yaxis={\n",
    "        \"tickmode\": \"array\",\n",
    "        \"tickvals\": pd.to_numeric(\n",
    "            [f\"{n:.1g}\" for n in np.geomspace(0.1, data_from_max_year['co2_emissions'].max()*2, 6)]\n",
    "        ),\n",
    "    },\n",
    "    )\n",
    "\n",
    "pyo.plot(fig, filename='co2_gdp_population.html', auto_open=False)\n",
    "IFrame(src='co2_gdp_population.html', width=800, height=600)"
   ]
  },
  {
   "cell_type": "markdown",
   "metadata": {},
   "source": [
    "### Energy Use By Continent\n",
    "Before comparing energy use in different continents, a quantile-quantile \n",
    "plot was used to check the normality of energy use data."
   ]
  },
  {
   "cell_type": "code",
   "execution_count": 23,
   "metadata": {},
   "outputs": [
    {
     "data": {
      "image/png": "[encoded data removed]",
      "text/plain": [
       "<Figure size 800x600 with 1 Axes>"
      ]
     },
     "metadata": {},
     "output_type": "display_data"
    }
   ],
   "source": [
    "# Filter and clean data\n",
    "continent_energy_df = df[['energy_use', 'continent']].dropna()\n",
    "\n",
    "# Q-Q plot\n",
    "plt.figure(figsize=(8, 6))\n",
    "stats.probplot(continent_energy_df['energy_use'], dist=\"norm\", plot=plt)\n",
    "\n",
    "plt.title('Normal Q-Q Plot')\n",
    "plt.xlabel('Theoretical Quantiles')\n",
    "plt.ylabel('Sample Quantiles')\n",
    "\n",
    "plt.show()"
   ]
  },
  {
   "cell_type": "markdown",
   "metadata": {},
   "source": [
    "Because the data was not normally distributed, a Kruskal-Wallis test was used to\n",
    "check for a significant difference between continents. Then, a Mann-Whitney U test \n",
    "with Bonferri correction was performed."
   ]
  },
  {
   "cell_type": "code",
   "execution_count": 49,
   "metadata": {},
   "outputs": [
    {
     "data": {
      "text/markdown": [
       "\n",
       "#### Kruskal-Wallis Test\n",
       "\n",
       "Statistic:\", 318.68 \n",
       "\n",
       "p-value:\", \"1.01e-67 \n"
      ],
      "text/plain": [
       "<IPython.core.display.Markdown object>"
      ]
     },
     "execution_count": 49,
     "metadata": {},
     "output_type": "execute_result"
    }
   ],
   "source": [
    "# Filter and clean data\n",
    "continent_energy_df = df[['energy_use', 'continent']].dropna()\n",
    "\n",
    "# Perform Kruskal-Wallis test\n",
    "stat, p = stats.kruskal(*[group[\"energy_use\"].values for name, group in continent_energy_df.groupby(\"continent\")])\n",
    "stat_rounded = \"{:.2f}\".format(stat)\n",
    "p_val_rounded = \"{:.2e}\".format(p)\n",
    "\n",
    "md(f\"\"\"\n",
    "#### Kruskal-Wallis Test\n",
    "\\nStatistic:\", {stat_rounded} \n",
    "\\np-value:\", \"{p_val_rounded} \n",
    "\"\"\")"
   ]
  },
  {
   "cell_type": "code",
   "execution_count": 81,
   "metadata": {},
   "outputs": [
    {
     "data": {
      "text/markdown": [
       "#### Mann-Whitney U Test with Bonferri Correction"
      ],
      "text/plain": [
       "<IPython.core.display.Markdown object>"
      ]
     },
     "execution_count": 81,
     "metadata": {},
     "output_type": "execute_result"
    }
   ],
   "source": [
    "md(f\"#### Mann-Whitney U Test with Bonferri Correction\")"
   ]
  },
  {
   "cell_type": "code",
   "execution_count": 82,
   "metadata": {},
   "outputs": [
    {
     "data": {
      "text/html": [
       "<div>\n",
       "<style scoped>\n",
       "    .dataframe tbody tr th:only-of-type {\n",
       "        vertical-align: middle;\n",
       "    }\n",
       "\n",
       "    .dataframe tbody tr th {\n",
       "        vertical-align: top;\n",
       "    }\n",
       "\n",
       "    .dataframe thead th {\n",
       "        text-align: right;\n",
       "    }\n",
       "</style>\n",
       "<table border=\"1\" class=\"dataframe\">\n",
       "  <thead>\n",
       "    <tr style=\"text-align: right;\">\n",
       "      <th></th>\n",
       "      <th>Comparison</th>\n",
       "      <th>p-value</th>\n",
       "      <th>Reject H0</th>\n",
       "    </tr>\n",
       "  </thead>\n",
       "  <tbody>\n",
       "    <tr>\n",
       "      <th>0</th>\n",
       "      <td>Europe vs Africa</td>\n",
       "      <td>1.48e-57</td>\n",
       "      <td>True</td>\n",
       "    </tr>\n",
       "    <tr>\n",
       "      <th>1</th>\n",
       "      <td>Europe vs Americas</td>\n",
       "      <td>2.52e-28</td>\n",
       "      <td>True</td>\n",
       "    </tr>\n",
       "    <tr>\n",
       "      <th>2</th>\n",
       "      <td>Europe vs Oceania</td>\n",
       "      <td>3.82e-02</td>\n",
       "      <td>True</td>\n",
       "    </tr>\n",
       "    <tr>\n",
       "      <th>3</th>\n",
       "      <td>Europe vs Asia</td>\n",
       "      <td>1.95e-22</td>\n",
       "      <td>True</td>\n",
       "    </tr>\n",
       "    <tr>\n",
       "      <th>4</th>\n",
       "      <td>Africa vs Americas</td>\n",
       "      <td>7.75e-14</td>\n",
       "      <td>True</td>\n",
       "    </tr>\n",
       "    <tr>\n",
       "      <th>5</th>\n",
       "      <td>Africa vs Oceania</td>\n",
       "      <td>5.61e-12</td>\n",
       "      <td>True</td>\n",
       "    </tr>\n",
       "    <tr>\n",
       "      <th>6</th>\n",
       "      <td>Africa vs Asia</td>\n",
       "      <td>1.28e-03</td>\n",
       "      <td>True</td>\n",
       "    </tr>\n",
       "    <tr>\n",
       "      <th>7</th>\n",
       "      <td>Americas vs Oceania</td>\n",
       "      <td>5.64e-07</td>\n",
       "      <td>True</td>\n",
       "    </tr>\n",
       "    <tr>\n",
       "      <th>8</th>\n",
       "      <td>Americas vs Asia</td>\n",
       "      <td>9.75e-01</td>\n",
       "      <td>False</td>\n",
       "    </tr>\n",
       "    <tr>\n",
       "      <th>9</th>\n",
       "      <td>Oceania vs Asia</td>\n",
       "      <td>2.47e-06</td>\n",
       "      <td>True</td>\n",
       "    </tr>\n",
       "  </tbody>\n",
       "</table>\n",
       "</div>"
      ],
      "text/plain": [
       "            Comparison   p-value  Reject H0\n",
       "0     Europe vs Africa  1.48e-57       True\n",
       "1   Europe vs Americas  2.52e-28       True\n",
       "2    Europe vs Oceania  3.82e-02       True\n",
       "3       Europe vs Asia  1.95e-22       True\n",
       "4   Africa vs Americas  7.75e-14       True\n",
       "5    Africa vs Oceania  5.61e-12       True\n",
       "6       Africa vs Asia  1.28e-03       True\n",
       "7  Americas vs Oceania  5.64e-07       True\n",
       "8     Americas vs Asia  9.75e-01      False\n",
       "9      Oceania vs Asia  2.47e-06       True"
      ]
     },
     "execution_count": 82,
     "metadata": {},
     "output_type": "execute_result"
    }
   ],
   "source": [
    "# Perform pairwise Mann-Whitney U tests\n",
    "continents = continent_energy_df['continent'].unique()\n",
    "\n",
    "p_values = []\n",
    "comparisons = []\n",
    "for i in range(len(continents)):\n",
    "    for j in range(i+1, len(continents)):\n",
    "        group1 = continent_energy_df[continent_energy_df['continent'] == continents[i]]['energy_use']\n",
    "        group2 = continent_energy_df[continent_energy_df['continent'] == continents[j]]['energy_use']\n",
    "        stat, p = mannwhitneyu(group1, group2)\n",
    "        p_values.append(p)\n",
    "        comparisons.append(f\"{continents[i]} vs {continents[j]}\")\n",
    "\n",
    "# Apply Bonferroni correction\n",
    "reject, corrected_p_values, _, _ = multipletests(p_values, method='bonferroni')\n",
    "\n",
    "# function for getting p-values in scientific notation with 2 decimal places\n",
    "def format_p_value(p):\n",
    "    return \"{:.2e}\".format(p)\n",
    "\n",
    "# Combine the results into a DataFrame\n",
    "results = pd.DataFrame({'Comparison': comparisons, 'p-value': corrected_p_values, 'Reject H0': reject})\n",
    "results['p-value'] = results['p-value'].apply(format_p_value)\n",
    "results"
   ]
  },
  {
   "cell_type": "markdown",
   "metadata": {},
   "source": [
    "There were significant differences in energy use between continents, with \n",
    "Oceania having the highest consumption per capita."
   ]
  },
  {
   "cell_type": "code",
   "execution_count": 29,
   "metadata": {},
   "outputs": [
    {
     "data": {
      "image/png": "[encoded data removed]",
      "text/plain": [
       "<Figure size 800x600 with 1 Axes>"
      ]
     },
     "metadata": {},
     "output_type": "display_data"
    }
   ],
   "source": [
    "# Boxplot\n",
    "plt.figure(figsize=(8, 6))\n",
    "sns.boxplot(x='continent', y='energy_use', data=continent_energy_df)\n",
    "\n",
    "plt.title('Energy Use by Continent')\n",
    "plt.ylabel('Energy Use (kg of oil equivalent per capita)')\n",
    "plt.xlabel('Continent')\n",
    "plt.show()"
   ]
  },
  {
   "cell_type": "markdown",
   "metadata": {},
   "source": [
    "### Imports In Europe & Asia After 1990\n",
    "A quantile-quantile plot was used to check the normality of imports data\n",
    "in Europe and Asia after 1990."
   ]
  },
  {
   "cell_type": "code",
   "execution_count": 48,
   "metadata": {},
   "outputs": [
    {
     "data": {
      "image/png": "[encoded data removed]",
      "text/plain": [
       "<Figure size 800x600 with 1 Axes>"
      ]
     },
     "metadata": {},
     "output_type": "display_data"
    }
   ],
   "source": [
    "# Filter and clean data\n",
    "imports_eu_asia = df[(df['continent'].isin(['Europe', 'Asia'])) & (df['year'] > 1990)][['continent', 'year', 'imports']].dropna()\n",
    "\n",
    "# Q-Q plot for checking normality\n",
    "plt.figure(figsize=(8, 6))\n",
    "stats.probplot(imports_eu_asia['imports'], plot=plt)\n",
    "plt.title('Normality Q-Q Plot')\n",
    "plt.xlabel('Theoretical Quantiles')\n",
    "plt.ylabel('Sample Quantiles')\n",
    "plt.show()\n",
    "\n",
    "# Perform Shapiro-Wilk test for normality\n",
    "stat, p = stats.shapiro(imports_eu_asia['imports'])\n",
    "import_normality_p_val = \"{:.2e}\".format(p)"
   ]
  },
  {
   "cell_type": "code",
   "execution_count": 72,
   "metadata": {},
   "outputs": [
    {
     "data": {
      "text/markdown": [
       "\n",
       "Shapiro-Wilk test was also used. The p-value was 1.46e-13 \n",
       "which is less than 0.05 which means that the data is not normally distributed.\n",
       "Therefore, a Wilcoxon rank-sum test was used compare imports between Europe \n",
       "and Asia.\n"
      ],
      "text/plain": [
       "<IPython.core.display.Markdown object>"
      ]
     },
     "execution_count": 72,
     "metadata": {},
     "output_type": "execute_result"
    }
   ],
   "source": [
    "md(f\"\"\"\n",
    "Shapiro-Wilk test was also used. The p-value was {import_normality_p_val} \n",
    "which is less than 0.05 which means that the data is not normally distributed.\n",
    "Therefore, a Wilcoxon rank-sum test was used compare imports between Europe \n",
    "and Asia.\n",
    "\"\"\")"
   ]
  },
  {
   "cell_type": "code",
   "execution_count": 70,
   "metadata": {},
   "outputs": [
    {
     "name": "stdout",
     "output_type": "stream",
     "text": [
      "For year 2002, p-value for Wilcoxon rank sum test was 0.90\n",
      "For year 2007, p-value for Wilcoxon rank sum test was 0.39\n",
      "For year 1992, p-value for Wilcoxon rank sum test was 0.48\n",
      "For year 1997, p-value for Wilcoxon rank sum test was 0.33\n"
     ]
    },
    {
     "data": {
      "image/png": "[encoded data removed]",
      "text/plain": [
       "<Figure size 1120x400 with 4 Axes>"
      ]
     },
     "metadata": {},
     "output_type": "display_data"
    }
   ],
   "source": [
    "# Make sure year is treated as categorical\n",
    "imports_eu_asia['year'] = imports_eu_asia['year'].astype('category')\n",
    "\n",
    "# Generate faceted boxplot\n",
    "p = sns.catplot(data=imports_eu_asia, x='continent', y='imports', col='year', kind='box', height=4, aspect=0.7)\n",
    "p.set_axis_labels(\"Continent\", \"Imports of Goods and Services (% of GDP)\")\n",
    "p.fig.subplots_adjust(top=0.8)  # adjust the Figure in rp\n",
    "p.fig.suptitle('Imports of Goods and Services in Europe and Asia')\n",
    "\n",
    "# Perform Wilcoxon rank sum test for each year and print results\n",
    "for year in imports_eu_asia['year'].unique():\n",
    "    europe_imports = imports_eu_asia[(imports_eu_asia['continent'] == 'Europe') & (imports_eu_asia['year'] == year)]['imports']\n",
    "    asia_imports = imports_eu_asia[(imports_eu_asia['continent'] == 'Asia') & (imports_eu_asia['year'] == year)]['imports']\n",
    "    stat, p = stats.ranksums(europe_imports, asia_imports)\n",
    "    print(f\"For year {year}, p-value for Wilcoxon rank sum test was {p:.2f}\")"
   ]
  },
  {
   "cell_type": "markdown",
   "metadata": {},
   "source": [
    "There was no significant difference between Europe and Asia (p>0.05) \n",
    "with respect to the percentage of GDP that accounts for imports of\n",
    "goods and services in any years since 1990."
   ]
  },
  {
   "cell_type": "markdown",
   "metadata": {},
   "source": [
    "### Countries With High Population Density\n",
    "\n",
    "This table shows the top 5 countries with the highest average ranking in \n",
    "population density across all time points."
   ]
  },
  {
   "cell_type": "code",
   "execution_count": 75,
   "metadata": {},
   "outputs": [
    {
     "data": {
      "text/html": [
       "<div>\n",
       "<style scoped>\n",
       "    .dataframe tbody tr th:only-of-type {\n",
       "        vertical-align: middle;\n",
       "    }\n",
       "\n",
       "    .dataframe tbody tr th {\n",
       "        vertical-align: top;\n",
       "    }\n",
       "\n",
       "    .dataframe thead th {\n",
       "        text-align: right;\n",
       "    }\n",
       "</style>\n",
       "<table border=\"1\" class=\"dataframe\">\n",
       "  <thead>\n",
       "    <tr style=\"text-align: right;\">\n",
       "      <th></th>\n",
       "      <th>Country</th>\n",
       "      <th>Average Ranking of Population Density</th>\n",
       "    </tr>\n",
       "  </thead>\n",
       "  <tbody>\n",
       "    <tr>\n",
       "      <th>0</th>\n",
       "      <td>Monaco</td>\n",
       "      <td>255.3</td>\n",
       "    </tr>\n",
       "    <tr>\n",
       "      <th>1</th>\n",
       "      <td>Macao SAR, China</td>\n",
       "      <td>255.3</td>\n",
       "    </tr>\n",
       "    <tr>\n",
       "      <th>2</th>\n",
       "      <td>Hong Kong SAR, China</td>\n",
       "      <td>253.7</td>\n",
       "    </tr>\n",
       "    <tr>\n",
       "      <th>3</th>\n",
       "      <td>Singapore</td>\n",
       "      <td>252.9</td>\n",
       "    </tr>\n",
       "    <tr>\n",
       "      <th>4</th>\n",
       "      <td>Sint Maarten (Dutch part)</td>\n",
       "      <td>252.5</td>\n",
       "    </tr>\n",
       "  </tbody>\n",
       "</table>\n",
       "</div>"
      ],
      "text/plain": [
       "                     Country  Average Ranking of Population Density\n",
       "0                     Monaco                                  255.3\n",
       "1           Macao SAR, China                                  255.3\n",
       "2       Hong Kong SAR, China                                  253.7\n",
       "3                  Singapore                                  252.9\n",
       "4  Sint Maarten (Dutch part)                                  252.5"
      ]
     },
     "execution_count": 75,
     "metadata": {},
     "output_type": "execute_result"
    }
   ],
   "source": [
    "# Add a column with the rank of population density for each year\n",
    "df['pop_density_rank'] = df.groupby('year')['population_density'].rank(method='min')\n",
    "\n",
    "# Calculate the mean rank for each country\n",
    "pop_density_ranking = df.groupby('country')['pop_density_rank'].mean().reset_index()\n",
    "\n",
    "# Sort the dataframe based on the mean rank and select the top 5 countries\n",
    "top_5_pop_density_countries = pop_density_ranking.sort_values('pop_density_rank', ascending=False).head(5).reset_index(drop=True)\n",
    "top_5_pop_density_countries.columns = ['Country', 'Average Ranking of Population Density']\n",
    "top_5_pop_density_countries"
   ]
  },
  {
   "cell_type": "code",
   "execution_count": 76,
   "metadata": {},
   "outputs": [
    {
     "data": {
      "text/markdown": [
       "\n",
       "The two countries with the highest average ranking in population density were\n",
       "Macao SAR, China and Hong Kong SAR, China.\n"
      ],
      "text/plain": [
       "<IPython.core.display.Markdown object>"
      ]
     },
     "execution_count": 76,
     "metadata": {},
     "output_type": "execute_result"
    }
   ],
   "source": [
    "md(f\"\"\"\n",
    "The two countries with the highest average ranking in population density were\n",
    "{top_5_pop_density_countries.Country[1]} and {top_5_pop_density_countries.Country[2]}.\n",
    "\"\"\")"
   ]
  },
  {
   "cell_type": "markdown",
   "metadata": {},
   "source": [
    "### Countries With The Greatest Increase In Life Expectancy\n",
    "\n",
    "The table below shows countries with the greatest incresease in life expectancy\n",
    "since 1962."
   ]
  },
  {
   "cell_type": "code",
   "execution_count": 77,
   "metadata": {},
   "outputs": [
    {
     "data": {
      "text/html": [
       "<div>\n",
       "<style scoped>\n",
       "    .dataframe tbody tr th:only-of-type {\n",
       "        vertical-align: middle;\n",
       "    }\n",
       "\n",
       "    .dataframe tbody tr th {\n",
       "        vertical-align: top;\n",
       "    }\n",
       "\n",
       "    .dataframe thead th {\n",
       "        text-align: right;\n",
       "    }\n",
       "</style>\n",
       "<table border=\"1\" class=\"dataframe\">\n",
       "  <thead>\n",
       "    <tr style=\"text-align: right;\">\n",
       "      <th></th>\n",
       "      <th>Country</th>\n",
       "      <th>Life Expectancy in 1962</th>\n",
       "      <th>Life Expectancy in 2007</th>\n",
       "      <th>Difference in Life Expectancy (Years)</th>\n",
       "    </tr>\n",
       "  </thead>\n",
       "  <tbody>\n",
       "    <tr>\n",
       "      <th>0</th>\n",
       "      <td>Maldives</td>\n",
       "      <td>38.48</td>\n",
       "      <td>75.40</td>\n",
       "      <td>36.92</td>\n",
       "    </tr>\n",
       "    <tr>\n",
       "      <th>1</th>\n",
       "      <td>Bhutan</td>\n",
       "      <td>33.09</td>\n",
       "      <td>66.29</td>\n",
       "      <td>33.20</td>\n",
       "    </tr>\n",
       "    <tr>\n",
       "      <th>2</th>\n",
       "      <td>Timor-Leste</td>\n",
       "      <td>34.74</td>\n",
       "      <td>65.82</td>\n",
       "      <td>31.09</td>\n",
       "    </tr>\n",
       "    <tr>\n",
       "      <th>3</th>\n",
       "      <td>Tunisia</td>\n",
       "      <td>43.34</td>\n",
       "      <td>74.20</td>\n",
       "      <td>30.86</td>\n",
       "    </tr>\n",
       "    <tr>\n",
       "      <th>4</th>\n",
       "      <td>Oman</td>\n",
       "      <td>44.30</td>\n",
       "      <td>75.12</td>\n",
       "      <td>30.82</td>\n",
       "    </tr>\n",
       "  </tbody>\n",
       "</table>\n",
       "</div>"
      ],
      "text/plain": [
       "       Country  Life Expectancy in 1962  Life Expectancy in 2007  \\\n",
       "0     Maldives                    38.48                    75.40   \n",
       "1       Bhutan                    33.09                    66.29   \n",
       "2  Timor-Leste                    34.74                    65.82   \n",
       "3      Tunisia                    43.34                    74.20   \n",
       "4         Oman                    44.30                    75.12   \n",
       "\n",
       "   Difference in Life Expectancy (Years)  \n",
       "0                                  36.92  \n",
       "1                                  33.20  \n",
       "2                                  31.09  \n",
       "3                                  30.86  \n",
       "4                                  30.82  "
      ]
     },
     "execution_count": 77,
     "metadata": {},
     "output_type": "execute_result"
    }
   ],
   "source": [
    "# Select the rows for the years 1962 and 2007\n",
    "life_exp_1962 = df.loc[df['year'] == 1962, ['country', 'life_expectancy']]\n",
    "life_exp_2007 = df.loc[df['year'] == 2007, ['country', 'life_expectancy']]\n",
    "\n",
    "# Rename the life_expectancy columns\n",
    "life_exp_1962.rename(columns={'life_expectancy': 'life_exp_1962'}, inplace=True)\n",
    "life_exp_2007.rename(columns={'life_expectancy': 'life_exp_2007'}, inplace=True)\n",
    "\n",
    "# Merge the two dataframes\n",
    "merged = pd.merge(life_exp_1962, life_exp_2007, on='country')\n",
    "\n",
    "# Calculate the difference between life expectancy in 2007 and 1962\n",
    "merged['life_expectancy_diff'] = merged['life_exp_2007'] - merged['life_exp_1962']\n",
    "\n",
    "# Sort the dataframe based on the difference and select the top 5 countries\n",
    "top_life_exp_diff = merged.sort_values('life_expectancy_diff', ascending=False).head(5).reset_index(drop=True).round(2)\n",
    "top_life_exp_diff.columns = ['Country', 'Life Expectancy in 1962', 'Life Expectancy in 2007', 'Difference in Life Expectancy (Years)']\n",
    "top_life_exp_diff"
   ]
  }
 ],
 "metadata": {
  "celltoolbar": "Tags",
  "kernelspec": {
   "display_name": "Python 3 (ipykernel)",
   "language": "python",
   "name": "python3"
  },
  "language_info": {
   "codemirror_mode": {
    "name": "ipython",
    "version": 3
   },
   "file_extension": ".py",
   "mimetype": "text/x-python",
   "name": "python",
   "nbconvert_exporter": "python",
   "pygments_lexer": "ipython3",
   "version": "3.8.15"
  }
 },
 "nbformat": 4,
 "nbformat_minor": 2
}
